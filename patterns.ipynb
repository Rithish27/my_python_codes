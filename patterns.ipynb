{
  "nbformat": 4,
  "nbformat_minor": 0,
  "metadata": {
    "colab": {
      "provenance": [],
      "collapsed_sections": [
        "jpW4TsET0pT1"
      ],
      "authorship_tag": "ABX9TyOAdcJQ9zvbHVhxI5sExcfo"
    },
    "kernelspec": {
      "name": "python3",
      "display_name": "Python 3"
    },
    "language_info": {
      "name": "python"
    }
  },
  "cells": [
    {
      "cell_type": "markdown",
      "source": [
        "## rectangle and lines patterns\n"
      ],
      "metadata": {
        "id": "jpW4TsET0pT1"
      }
    },
    {
      "cell_type": "code",
      "source": [
        "length = 5\n",
        "breadth = 3\n",
        "\n",
        "for i in range(breadth):\n",
        "  for j in range(length):\n",
        "    print(\"*\",end=\"\")\n",
        "  print()"
      ],
      "metadata": {
        "colab": {
          "base_uri": "https://localhost:8080/"
        },
        "id": "P3WViVau0vAp",
        "outputId": "ff0d5531-8d4a-41b9-e5c0-4ce362f2ce60"
      },
      "execution_count": 8,
      "outputs": [
        {
          "output_type": "stream",
          "name": "stdout",
          "text": [
            "*****\n",
            "*****\n",
            "*****\n"
          ]
        }
      ]
    },
    {
      "cell_type": "code",
      "source": [
        "side = 5\n",
        "for i in range(side):\n",
        "  for j in range(side):\n",
        "    print(\"*\",end=\" \")\n",
        "  print()"
      ],
      "metadata": {
        "colab": {
          "base_uri": "https://localhost:8080/"
        },
        "id": "t1RzgQZg1dcp",
        "outputId": "765b1752-2dfa-4b9a-b9b0-adf598f8ed83"
      },
      "execution_count": 11,
      "outputs": [
        {
          "output_type": "stream",
          "name": "stdout",
          "text": [
            "* * * * * \n",
            "* * * * * \n",
            "* * * * * \n",
            "* * * * * \n",
            "* * * * * \n"
          ]
        }
      ]
    },
    {
      "cell_type": "code",
      "source": [
        "n = 5\n",
        "for i in range(n):\n",
        "  print(\"*\")"
      ],
      "metadata": {
        "colab": {
          "base_uri": "https://localhost:8080/"
        },
        "id": "if_LyUXG1v3F",
        "outputId": "fa24baf5-dda4-4a0f-a825-fbd5cb82fe8e"
      },
      "execution_count": 13,
      "outputs": [
        {
          "output_type": "stream",
          "name": "stdout",
          "text": [
            "*\n",
            "*\n",
            "*\n",
            "*\n",
            "*\n"
          ]
        }
      ]
    },
    {
      "cell_type": "code",
      "source": [
        "n = 5\n",
        "for i in range(n):\n",
        "  print(\"*\",end=\" \")"
      ],
      "metadata": {
        "colab": {
          "base_uri": "https://localhost:8080/"
        },
        "id": "KAhZbIlF13X4",
        "outputId": "9b1d498a-e3c7-44d8-dba9-cccfed0d0014"
      },
      "execution_count": 15,
      "outputs": [
        {
          "output_type": "stream",
          "name": "stdout",
          "text": [
            "* * * * * "
          ]
        }
      ]
    },
    {
      "cell_type": "code",
      "source": [
        "n = 5\n",
        "sp = 0\n",
        "for i in range(n):\n",
        "  print(\" \"*sp+\"*\")\n",
        "  sp += 1"
      ],
      "metadata": {
        "colab": {
          "base_uri": "https://localhost:8080/"
        },
        "id": "P05wLLr51-CW",
        "outputId": "c6bec9ac-a940-481d-8e6e-20a523eec284"
      },
      "execution_count": 21,
      "outputs": [
        {
          "output_type": "stream",
          "name": "stdout",
          "text": [
            "*\n",
            " *\n",
            "  *\n",
            "   *\n",
            "    *\n"
          ]
        }
      ]
    },
    {
      "cell_type": "code",
      "source": [
        "n = 5\n",
        "sp = n-1\n",
        "for i in range(n):\n",
        "  print(\" \"*sp + \"*\")\n",
        "  sp -= 1"
      ],
      "metadata": {
        "colab": {
          "base_uri": "https://localhost:8080/"
        },
        "id": "kr-tjbvX2SA0",
        "outputId": "07dfd053-944b-43d0-8525-240172f2adc8"
      },
      "execution_count": 23,
      "outputs": [
        {
          "output_type": "stream",
          "name": "stdout",
          "text": [
            "    *\n",
            "   *\n",
            "  *\n",
            " *\n",
            "*\n"
          ]
        }
      ]
    },
    {
      "cell_type": "code",
      "source": [
        "n = 5\n",
        "for i in range(n):\n",
        "  if i == n-1:\n",
        "    print(\"* \"*n)\n",
        "  print()"
      ],
      "metadata": {
        "colab": {
          "base_uri": "https://localhost:8080/"
        },
        "id": "soO7wdNO2acv",
        "outputId": "27fef29c-c653-45a9-e236-ec024187593c"
      },
      "execution_count": 26,
      "outputs": [
        {
          "output_type": "stream",
          "name": "stdout",
          "text": [
            "\n",
            "\n",
            "\n",
            "\n",
            "* * * * * \n",
            "\n"
          ]
        }
      ]
    },
    {
      "cell_type": "code",
      "source": [
        "n = 5\n",
        "sp = n-1\n",
        "for i in range(n):\n",
        "  print(\" \"*sp+\"*\")"
      ],
      "metadata": {
        "colab": {
          "base_uri": "https://localhost:8080/"
        },
        "id": "BRMbuEZq2t0b",
        "outputId": "fd6fe8d8-c3c1-4dcc-af35-d8871b4592d0"
      },
      "execution_count": 30,
      "outputs": [
        {
          "output_type": "stream",
          "name": "stdout",
          "text": [
            "    *\n",
            "    *\n",
            "    *\n",
            "    *\n",
            "    *\n"
          ]
        }
      ]
    },
    {
      "cell_type": "markdown",
      "source": [
        "##triangle patterns"
      ],
      "metadata": {
        "id": "Bvj7M1i95sUs"
      }
    },
    {
      "cell_type": "code",
      "source": [
        "n = 5\n",
        "st = 1\n",
        "for i in range(n):\n",
        "  for j in range(st):\n",
        "    print(\"*\",end=\"\")\n",
        "  print()\n",
        "  st += 1"
      ],
      "metadata": {
        "colab": {
          "base_uri": "https://localhost:8080/"
        },
        "id": "pm4RUDEr5vWy",
        "outputId": "1905a6fd-6cfc-44b1-adb3-1aea9414577a"
      },
      "execution_count": 33,
      "outputs": [
        {
          "output_type": "stream",
          "name": "stdout",
          "text": [
            "*\n",
            "**\n",
            "***\n",
            "****\n",
            "*****\n"
          ]
        }
      ]
    },
    {
      "cell_type": "code",
      "source": [
        "n = 5\n",
        "st = n\n",
        "sp = 0\n",
        "for i in range(n):\n",
        "  for j in range(sp):\n",
        "    print(\" \",end=\"\")\n",
        "  for k in range(st):\n",
        "    print(\"*\",end=\"\")\n",
        "  print()\n",
        "  sp += 1\n",
        "  st -= 1"
      ],
      "metadata": {
        "colab": {
          "base_uri": "https://localhost:8080/"
        },
        "id": "tYpNKpmn6G4E",
        "outputId": "d5fea188-1153-4707-c6c3-189aa5b11e4e"
      },
      "execution_count": 35,
      "outputs": [
        {
          "output_type": "stream",
          "name": "stdout",
          "text": [
            "*****\n",
            " ****\n",
            "  ***\n",
            "   **\n",
            "    *\n"
          ]
        }
      ]
    },
    {
      "cell_type": "code",
      "source": [
        "n = 5\n",
        "sp = n-1\n",
        "st = 1\n",
        "for i in range(n):\n",
        "  for j in range(sp):\n",
        "    print(\" \",end=\"\")\n",
        "  for k in range(st):\n",
        "    print(\"*\",end=\"\")\n",
        "  print()\n",
        "  sp -= 1\n",
        "  st += 1\n",
        ""
      ],
      "metadata": {
        "colab": {
          "base_uri": "https://localhost:8080/"
        },
        "id": "I2wTxX8C6f5X",
        "outputId": "6df186bd-d247-4108-871a-5e67627772b2"
      },
      "execution_count": 37,
      "outputs": [
        {
          "output_type": "stream",
          "name": "stdout",
          "text": [
            "    *\n",
            "   **\n",
            "  ***\n",
            " ****\n",
            "*****\n"
          ]
        }
      ]
    },
    {
      "cell_type": "code",
      "source": [
        "n = 5\n",
        "st = n\n",
        "for i in range(n):\n",
        "  for j in range(st):\n",
        "    print(\"*\",end=\"\")\n",
        "  print()\n",
        "  st -= 1"
      ],
      "metadata": {
        "colab": {
          "base_uri": "https://localhost:8080/"
        },
        "id": "jTtkQdSO6u37",
        "outputId": "6eef4558-ea37-4961-ecff-69ff899f4ddc"
      },
      "execution_count": 39,
      "outputs": [
        {
          "output_type": "stream",
          "name": "stdout",
          "text": [
            "*****\n",
            "****\n",
            "***\n",
            "**\n",
            "*\n"
          ]
        }
      ]
    },
    {
      "cell_type": "code",
      "source": [
        "n = 5\n",
        "st = 1\n",
        "sp = n-1\n",
        "for i in range(n):\n",
        "  for j in range(sp):\n",
        "    print(\" \",end=\"\")\n",
        "  for k in range(st):\n",
        "    print(\"*\",end=\"\")\n",
        "  print()\n",
        "  sp -= 1\n",
        "  st += 2"
      ],
      "metadata": {
        "colab": {
          "base_uri": "https://localhost:8080/"
        },
        "id": "tj8iFtNu6_8e",
        "outputId": "5992d6ed-be31-40ac-db04-980dde985093"
      },
      "execution_count": 48,
      "outputs": [
        {
          "output_type": "stream",
          "name": "stdout",
          "text": [
            "    *\n",
            "   ***\n",
            "  *****\n",
            " *******\n",
            "*********\n"
          ]
        }
      ]
    },
    {
      "cell_type": "code",
      "source": [
        "n = 5\n",
        "st = 2*n-1\n",
        "sp = 0\n",
        "for i in range(n):\n",
        "  for j in range(sp):\n",
        "    print(\" \",end=\"\")\n",
        "  for k in range(st):\n",
        "    print(\"*\",end=\"\")\n",
        "  print()\n",
        "  st -= 2\n",
        "  sp += 1\n",
        ""
      ],
      "metadata": {
        "colab": {
          "base_uri": "https://localhost:8080/"
        },
        "id": "GJDU8Uuj7oOP",
        "outputId": "d263992e-f8c3-4e7e-ca21-a4bf5cadeeb3"
      },
      "execution_count": 49,
      "outputs": [
        {
          "output_type": "stream",
          "name": "stdout",
          "text": [
            "*********\n",
            " *******\n",
            "  *****\n",
            "   ***\n",
            "    *\n"
          ]
        }
      ]
    },
    {
      "cell_type": "code",
      "source": [
        "n = 7\n",
        "st = 1\n",
        "for i in range(n):\n",
        "  for j in range(st):\n",
        "    print(\"*\",end=\"\")\n",
        "  print()\n",
        "  if i < n//2:\n",
        "    st += 1\n",
        "  else:\n",
        "    st -= 1"
      ],
      "metadata": {
        "colab": {
          "base_uri": "https://localhost:8080/"
        },
        "id": "0-vQQf2Q77WB",
        "outputId": "9f199df0-38d0-46bc-e15f-637dc69d5bf8"
      },
      "execution_count": 54,
      "outputs": [
        {
          "output_type": "stream",
          "name": "stdout",
          "text": [
            "*\n",
            "**\n",
            "***\n",
            "****\n",
            "***\n",
            "**\n",
            "*\n"
          ]
        }
      ]
    },
    {
      "cell_type": "code",
      "source": [
        "n = 7\n",
        "st = 1\n",
        "sp = n//2\n",
        "for i in range(n):\n",
        "  for j in range(sp):\n",
        "    print(\" \",end=\"\")\n",
        "  for k in range(st):\n",
        "    print(\"*\",end=\"\")\n",
        "  print()\n",
        "  if i < n//2:\n",
        "    sp -= 1\n",
        "    st += 1\n",
        "  else:\n",
        "    sp += 1\n",
        "    st -= 1"
      ],
      "metadata": {
        "colab": {
          "base_uri": "https://localhost:8080/"
        },
        "id": "Cc7k5Dqu8Zy0",
        "outputId": "1793a4a0-9f50-4807-9b73-0592ebcb73c1"
      },
      "execution_count": 64,
      "outputs": [
        {
          "output_type": "stream",
          "name": "stdout",
          "text": [
            "   *\n",
            "  **\n",
            " ***\n",
            "****\n",
            " ***\n",
            "  **\n",
            "   *\n"
          ]
        }
      ]
    },
    {
      "cell_type": "code",
      "source": [
        "# * * * * * * * * * *\n",
        "# * * * *     * * * *\n",
        "# * * *         * * *\n",
        "# * *             * *\n",
        "# *                 *\n",
        "\n",
        "\n",
        "n = 5\n",
        "st = n\n",
        "sp = 0\n",
        "for i in range(n):\n",
        "  print(\"*\"*st+\" \"*sp+\"*\"*st)\n",
        "  st -= 1\n",
        "  sp += 2\n",
        "\n",
        "\n",
        "\n"
      ],
      "metadata": {
        "colab": {
          "base_uri": "https://localhost:8080/"
        },
        "id": "yQPQcM6H9Jn5",
        "outputId": "216fe6c1-cb21-4183-ff97-bf30298862e6"
      },
      "execution_count": 1,
      "outputs": [
        {
          "output_type": "stream",
          "name": "stdout",
          "text": [
            "**********\n",
            "****  ****\n",
            "***    ***\n",
            "**      **\n",
            "*        *\n"
          ]
        }
      ]
    }
  ]
}